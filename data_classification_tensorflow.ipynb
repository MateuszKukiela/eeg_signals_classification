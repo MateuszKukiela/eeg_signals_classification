{
 "cells": [
  {
   "cell_type": "markdown",
   "metadata": {},
   "source": [
    "# Imports"
   ]
  },
  {
   "cell_type": "code",
   "execution_count": 1,
   "metadata": {},
   "outputs": [],
   "source": [
    "import os\n",
    "import logging\n",
    "import importlib\n",
    "importlib.reload(logging)\n",
    "log = logging.getLogger()\n",
    "log.setLevel('INFO')\n",
    "import sys\n",
    "\n",
    "logging.basicConfig(format='%(asctime)s %(levelname)s |: %(message)s',\n",
    "                     level=logging.INFO, stream=sys.stdout)\n",
    "import mne\n",
    "from mne.io import concatenate_raws\n",
    "import matplotlib.pyplot as plt\n",
    "from scipy import signal\n",
    "from sklearn import preprocessing\n",
    "import numpy as np\n",
    "\n",
    "import pickle\n",
    "import json\n",
    "\n",
    "\n",
    "from tensorflow.keras.models import Model, Sequential\n",
    "from tensorflow.keras.layers import Dense, Activation, Permute, Dropout\n",
    "from tensorflow.keras.layers import Conv2D, MaxPooling2D, AveragePooling2D\n",
    "from tensorflow.keras.layers import SeparableConv2D, DepthwiseConv2D\n",
    "from tensorflow.keras.layers import BatchNormalization\n",
    "from tensorflow.keras.layers import SpatialDropout2D\n",
    "from tensorflow.keras.regularizers import l1_l2\n",
    "from tensorflow.keras.layers import Input, Flatten\n",
    "from tensorflow.keras.constraints import max_norm\n",
    "from tensorflow.keras import backend as K\n",
    "from typing import Iterable, Union\n",
    "import tensorflow as tf\n",
    "import keras"
   ]
  },
  {
   "cell_type": "markdown",
   "metadata": {},
   "source": [
    "# Functions"
   ]
  },
  {
   "cell_type": "code",
   "execution_count": 6,
   "metadata": {},
   "outputs": [],
   "source": [
    "def square(x):\n",
    "    return K.square(x)\n",
    "\n",
    "def log(x):\n",
    "    return K.log(K.clip(x, min_value = 1e-7, max_value = 10000)) \n",
    "\n",
    "def create_model(n_classes=2, n_channs=19, samples = 306, dropout_rate=0.5):\n",
    "    model = Sequential()\n",
    "    model.add(Conv2D(40, (1, 13), input_shape=(n_channs, samples, 1), kernel_constraint = max_norm(2., axis=(0,1,2))))\n",
    "    model.add(Conv2D(40, (n_channs, 1), use_bias=False, kernel_constraint = max_norm(2., axis=(0,1,2))))\n",
    "    model.add(BatchNormalization(epsilon=1e-05, momentum=0.1))\n",
    "    model.add(Activation(square))\n",
    "    model.add(AveragePooling2D(pool_size=(1, 35), strides=(1, 7)))\n",
    "    model.add(Activation(log))\n",
    "    model.add(Dropout(dropout_rate))\n",
    "    model.add(Flatten())\n",
    "    model.add(Dense(n_classes, kernel_constraint = max_norm(0.5), activation='softmax'))\n",
    "    model.compile(loss = 'categorical_crossentropy', optimizer = 'adam', metrics=['accuracy'])\n",
    "    return model\n",
    "\n",
    "def train_model(path='./processed_data/', model_path = './models/', data_type='standardization_one', cuda=True, epochs=15, batch_size=16, multiplier=1, data_type_out=None):\n",
    "    path = f'{path}{data_type}/'\n",
    "    \n",
    "    X_test = np.load(path + f'X_test.npy')\n",
    "    y_test = np.load(path + f'y_test.npy')\n",
    "    X_train = np.load(path + f'X_train.npy')\n",
    "    y_train = np.load(path + f'y_train.npy')\n",
    "    X_valid = np.load(path + f'X_valid.npy')\n",
    "    y_valid = np.load(path + f'y_valid.npy')\n",
    "    \n",
    "    X_test = (X_test * multiplier).astype(np.float32)\n",
    "    X_train = (X_train * multiplier).astype(np.float32)\n",
    "    X_valid = (X_valid * multiplier).astype(np.float32)\n",
    "    y_test = y_test.astype(np.int64)\n",
    "    y_train = y_train.astype(np.int64)\n",
    "    y_valid = y_valid.astype(np.int64)\n",
    "    \n",
    "    X = np.concatenate((X_train,X_test))\n",
    "    y = np.concatenate((y_train,y_test))\n",
    "    \n",
    "    y = tf.keras.utils.to_categorical(y, num_classes=2, dtype='float32')\n",
    "    y_valid = tf.keras.utils.to_categorical(y_valid, num_classes=2, dtype='float32')\n",
    "    \n",
    "    X = X.reshape((X.shape[0], X.shape[1], X.shape[2], 1))\n",
    "    X_valid = X_valid.reshape((X_valid.shape[0], X_valid.shape[1], X_valid.shape[2], 1))\n",
    "    \n",
    "    model = create_model()\n",
    "    history = model.fit(X, y, batch_size = batch_size, epochs = epochs, validation_data=(X_valid, y_valid))\n",
    "    \n",
    "    if data_type_out:\n",
    "        data_type = data_type_out\n",
    "    model_path = f'{model_path}{data_type}'\n",
    "    if not os.path.exists(model_path):\n",
    "        os.makedirs(model_path)\n",
    "    model.save(model_path)\n",
    "    history_dict = history.history\n",
    "    json.dump(history_dict, open(f'{model_path}/history', 'w'))"
   ]
  },
  {
   "cell_type": "markdown",
   "metadata": {},
   "source": [
    "## Classification clean"
   ]
  },
  {
   "cell_type": "code",
   "execution_count": 9,
   "metadata": {
    "scrolled": true
   },
   "outputs": [
    {
     "name": "stdout",
     "output_type": "stream",
     "text": [
      "Epoch 1/50\n",
      "903/903 [==============================] - 24s 26ms/step - loss: 0.8034 - accuracy: 0.5231 - val_loss: 0.7052 - val_accuracy: 0.5487\n",
      "Epoch 2/50\n",
      "903/903 [==============================] - 25s 27ms/step - loss: 0.7476 - accuracy: 0.5530 - val_loss: 0.6859 - val_accuracy: 0.5611\n",
      "Epoch 3/50\n",
      "903/903 [==============================] - 24s 26ms/step - loss: 0.7460 - accuracy: 0.5663 - val_loss: 0.6957 - val_accuracy: 0.5683\n",
      "Epoch 4/50\n",
      "903/903 [==============================] - 24s 26ms/step - loss: 0.7267 - accuracy: 0.5835 - val_loss: 0.7897 - val_accuracy: 0.5429\n",
      "Epoch 5/50\n",
      "903/903 [==============================] - 23s 26ms/step - loss: 0.7452 - accuracy: 0.5684 - val_loss: 0.7397 - val_accuracy: 0.5523\n",
      "Epoch 6/50\n",
      "903/903 [==============================] - 29s 32ms/step - loss: 0.7424 - accuracy: 0.5661 - val_loss: 0.6935 - val_accuracy: 0.5818\n",
      "Epoch 7/50\n",
      "903/903 [==============================] - 26s 29ms/step - loss: 0.7241 - accuracy: 0.5770 - val_loss: 0.7407 - val_accuracy: 0.5782\n",
      "Epoch 8/50\n",
      "903/903 [==============================] - 30s 33ms/step - loss: 0.7265 - accuracy: 0.5881 - val_loss: 0.7338 - val_accuracy: 0.5680\n",
      "Epoch 9/50\n",
      "903/903 [==============================] - 28s 32ms/step - loss: 0.7114 - accuracy: 0.5959 - val_loss: 0.6889 - val_accuracy: 0.5788\n",
      "Epoch 10/50\n",
      "903/903 [==============================] - 28s 31ms/step - loss: 0.7249 - accuracy: 0.5797 - val_loss: 0.7358 - val_accuracy: 0.5732\n",
      "Epoch 11/50\n",
      "903/903 [==============================] - 27s 30ms/step - loss: 0.7147 - accuracy: 0.5894 - val_loss: 0.7073 - val_accuracy: 0.5912\n",
      "Epoch 12/50\n",
      "903/903 [==============================] - 27s 30ms/step - loss: 0.6998 - accuracy: 0.6015 - val_loss: 0.7203 - val_accuracy: 0.5708\n",
      "Epoch 13/50\n",
      "903/903 [==============================] - 24s 27ms/step - loss: 0.7120 - accuracy: 0.5891 - val_loss: 0.6905 - val_accuracy: 0.5956\n",
      "Epoch 14/50\n",
      "903/903 [==============================] - 24s 26ms/step - loss: 0.7102 - accuracy: 0.5928 - val_loss: 0.7273 - val_accuracy: 0.5823\n",
      "Epoch 15/50\n",
      "903/903 [==============================] - 23s 26ms/step - loss: 0.7072 - accuracy: 0.5999 - val_loss: 0.7654 - val_accuracy: 0.5699\n",
      "Epoch 16/50\n",
      "903/903 [==============================] - 23s 26ms/step - loss: 0.7021 - accuracy: 0.6047 - val_loss: 0.7835 - val_accuracy: 0.5592\n",
      "Epoch 17/50\n",
      "903/903 [==============================] - 22s 25ms/step - loss: 0.7056 - accuracy: 0.5960 - val_loss: 0.8443 - val_accuracy: 0.5432\n",
      "Epoch 18/50\n",
      "903/903 [==============================] - 23s 26ms/step - loss: 0.7008 - accuracy: 0.6029 - val_loss: 0.7078 - val_accuracy: 0.5699\n",
      "Epoch 19/50\n",
      "903/903 [==============================] - 22s 25ms/step - loss: 0.7007 - accuracy: 0.5964 - val_loss: 0.6813 - val_accuracy: 0.5959\n",
      "Epoch 20/50\n",
      "903/903 [==============================] - 23s 25ms/step - loss: 0.6885 - accuracy: 0.6055 - val_loss: 0.6748 - val_accuracy: 0.5959\n",
      "Epoch 21/50\n",
      "903/903 [==============================] - 21s 24ms/step - loss: 0.6839 - accuracy: 0.6104 - val_loss: 0.6762 - val_accuracy: 0.6102\n",
      "Epoch 22/50\n",
      "903/903 [==============================] - 24s 26ms/step - loss: 0.6818 - accuracy: 0.6071 - val_loss: 0.6999 - val_accuracy: 0.5917\n",
      "Epoch 23/50\n",
      "903/903 [==============================] - 23s 26ms/step - loss: 0.6748 - accuracy: 0.6153 - val_loss: 0.7070 - val_accuracy: 0.5859\n",
      "Epoch 24/50\n",
      "903/903 [==============================] - 24s 26ms/step - loss: 0.6826 - accuracy: 0.6093 - val_loss: 0.6860 - val_accuracy: 0.5953\n",
      "Epoch 25/50\n",
      "903/903 [==============================] - 23s 26ms/step - loss: 0.6707 - accuracy: 0.6145 - val_loss: 0.6658 - val_accuracy: 0.5931\n",
      "Epoch 26/50\n",
      "903/903 [==============================] - 23s 25ms/step - loss: 0.6627 - accuracy: 0.6247 - val_loss: 0.6772 - val_accuracy: 0.5981\n",
      "Epoch 27/50\n",
      "903/903 [==============================] - 25s 27ms/step - loss: 0.6698 - accuracy: 0.6117 - val_loss: 0.6628 - val_accuracy: 0.6019\n",
      "Epoch 28/50\n",
      "903/903 [==============================] - 26s 29ms/step - loss: 0.6632 - accuracy: 0.6198 - val_loss: 0.7784 - val_accuracy: 0.5799\n",
      "Epoch 29/50\n",
      "903/903 [==============================] - 27s 29ms/step - loss: 0.6586 - accuracy: 0.6235 - val_loss: 0.6794 - val_accuracy: 0.5890\n",
      "Epoch 30/50\n",
      "903/903 [==============================] - 26s 28ms/step - loss: 0.6657 - accuracy: 0.6175 - val_loss: 0.6543 - val_accuracy: 0.6143\n",
      "Epoch 31/50\n",
      "903/903 [==============================] - 27s 30ms/step - loss: 0.6604 - accuracy: 0.6133 - val_loss: 0.6978 - val_accuracy: 0.5859\n",
      "Epoch 32/50\n",
      "903/903 [==============================] - 27s 30ms/step - loss: 0.6549 - accuracy: 0.6262 - val_loss: 0.6728 - val_accuracy: 0.5961\n",
      "Epoch 33/50\n",
      "903/903 [==============================] - 26s 28ms/step - loss: 0.6523 - accuracy: 0.6305 - val_loss: 0.6725 - val_accuracy: 0.5992\n",
      "Epoch 34/50\n",
      "903/903 [==============================] - 25s 28ms/step - loss: 0.6594 - accuracy: 0.6218 - val_loss: 0.6496 - val_accuracy: 0.6303\n",
      "Epoch 35/50\n",
      "903/903 [==============================] - 24s 27ms/step - loss: 0.6512 - accuracy: 0.6274 - val_loss: 0.6604 - val_accuracy: 0.6083\n",
      "Epoch 36/50\n",
      "903/903 [==============================] - 25s 27ms/step - loss: 0.6577 - accuracy: 0.6140 - val_loss: 0.6656 - val_accuracy: 0.6006\n",
      "Epoch 37/50\n",
      "903/903 [==============================] - 22s 25ms/step - loss: 0.6477 - accuracy: 0.6301 - val_loss: 0.6702 - val_accuracy: 0.6124\n",
      "Epoch 38/50\n",
      "903/903 [==============================] - 21s 24ms/step - loss: 0.6488 - accuracy: 0.6296 - val_loss: 0.6578 - val_accuracy: 0.5986\n",
      "Epoch 39/50\n",
      "903/903 [==============================] - 21s 24ms/step - loss: 0.6469 - accuracy: 0.6332 - val_loss: 0.6702 - val_accuracy: 0.6014\n",
      "Epoch 40/50\n",
      "903/903 [==============================] - 22s 24ms/step - loss: 0.6518 - accuracy: 0.6224 - val_loss: 0.6615 - val_accuracy: 0.6149\n",
      "Epoch 41/50\n",
      "903/903 [==============================] - 25s 28ms/step - loss: 0.6514 - accuracy: 0.6311 - val_loss: 0.6593 - val_accuracy: 0.6047\n",
      "Epoch 42/50\n",
      "903/903 [==============================] - 26s 28ms/step - loss: 0.6487 - accuracy: 0.6308 - val_loss: 0.6549 - val_accuracy: 0.6113\n",
      "Epoch 43/50\n",
      "903/903 [==============================] - 24s 27ms/step - loss: 0.6480 - accuracy: 0.6303 - val_loss: 0.6541 - val_accuracy: 0.6130\n",
      "Epoch 44/50\n",
      "903/903 [==============================] - 22s 25ms/step - loss: 0.6523 - accuracy: 0.6227 - val_loss: 0.6612 - val_accuracy: 0.6017\n",
      "Epoch 45/50\n",
      "903/903 [==============================] - 24s 27ms/step - loss: 0.6510 - accuracy: 0.6228 - val_loss: 0.6676 - val_accuracy: 0.6030\n",
      "Epoch 46/50\n",
      "903/903 [==============================] - 26s 29ms/step - loss: 0.6466 - accuracy: 0.6340 - val_loss: 0.6562 - val_accuracy: 0.6179\n",
      "Epoch 47/50\n",
      "903/903 [==============================] - 23s 26ms/step - loss: 0.6506 - accuracy: 0.6219 - val_loss: 0.6514 - val_accuracy: 0.6290\n",
      "Epoch 48/50\n",
      "903/903 [==============================] - 24s 26ms/step - loss: 0.6421 - accuracy: 0.6299 - val_loss: 0.6655 - val_accuracy: 0.6097\n",
      "Epoch 49/50\n",
      "903/903 [==============================] - 24s 26ms/step - loss: 0.6458 - accuracy: 0.6293 - val_loss: 0.6481 - val_accuracy: 0.6257\n",
      "Epoch 50/50\n",
      "903/903 [==============================] - 22s 24ms/step - loss: 0.6434 - accuracy: 0.6288 - val_loss: 0.6471 - val_accuracy: 0.6190\n",
      "2021-01-26 23:38:07,468 INFO |: Assets written to: ./models/clean/assets\n"
     ]
    }
   ],
   "source": [
    "train_model(data_type='clean', epochs=50, batch_size=16, multiplier=10**6)"
   ]
  },
  {
   "cell_type": "markdown",
   "metadata": {},
   "source": [
    "## Classification xDawn"
   ]
  },
  {
   "cell_type": "code",
   "execution_count": null,
   "metadata": {
    "scrolled": true
   },
   "outputs": [
    {
     "name": "stdout",
     "output_type": "stream",
     "text": [
      "Epoch 1/50\n",
      "903/903 [==============================] - 29s 32ms/step - loss: 0.8166 - accuracy: 0.5206 - val_loss: 0.7130 - val_accuracy: 0.5473\n",
      "Epoch 2/50\n",
      "903/903 [==============================] - 26s 29ms/step - loss: 0.7677 - accuracy: 0.5417 - val_loss: 0.8384 - val_accuracy: 0.5101\n",
      "Epoch 3/50\n",
      "903/903 [==============================] - 27s 30ms/step - loss: 0.7565 - accuracy: 0.5478 - val_loss: 0.6983 - val_accuracy: 0.5702\n",
      "Epoch 4/50\n",
      "903/903 [==============================] - 29s 32ms/step - loss: 0.7605 - accuracy: 0.5384 - val_loss: 0.7155 - val_accuracy: 0.5526\n",
      "Epoch 5/50\n",
      "903/903 [==============================] - 29s 32ms/step - loss: 0.7598 - accuracy: 0.5465 - val_loss: 0.7451 - val_accuracy: 0.5550\n",
      "Epoch 6/50\n",
      "903/903 [==============================] - 28s 30ms/step - loss: 0.7539 - accuracy: 0.5597 - val_loss: 0.6991 - val_accuracy: 0.5699\n",
      "Epoch 7/50\n",
      "903/903 [==============================] - 26s 29ms/step - loss: 0.7526 - accuracy: 0.5538 - val_loss: 0.7024 - val_accuracy: 0.5600\n",
      "Epoch 8/50\n",
      "903/903 [==============================] - 26s 29ms/step - loss: 0.7542 - accuracy: 0.5638 - val_loss: 0.6979 - val_accuracy: 0.5710\n",
      "Epoch 9/50\n",
      "903/903 [==============================] - 27s 29ms/step - loss: 0.7430 - accuracy: 0.5563 - val_loss: 0.7466 - val_accuracy: 0.5252\n",
      "Epoch 10/50\n",
      "903/903 [==============================] - 27s 29ms/step - loss: 0.7568 - accuracy: 0.5524 - val_loss: 0.7030 - val_accuracy: 0.5636\n",
      "Epoch 11/50\n",
      "903/903 [==============================] - 28s 31ms/step - loss: 0.7428 - accuracy: 0.5528 - val_loss: 0.7056 - val_accuracy: 0.5561\n",
      "Epoch 12/50\n",
      "903/903 [==============================] - 27s 30ms/step - loss: 0.7428 - accuracy: 0.5505 - val_loss: 0.7583 - val_accuracy: 0.5492\n",
      "Epoch 13/50\n",
      "903/903 [==============================] - 23s 26ms/step - loss: 0.7376 - accuracy: 0.5620 - val_loss: 0.6945 - val_accuracy: 0.5537\n",
      "Epoch 14/50\n",
      "903/903 [==============================] - 23s 25ms/step - loss: 0.7297 - accuracy: 0.5645 - val_loss: 0.7117 - val_accuracy: 0.5539\n",
      "Epoch 15/50\n",
      "100/903 [==>...........................] - ETA: 18s - loss: 0.7215 - accuracy: 0.5673"
     ]
    }
   ],
   "source": [
    "train_model(data_type='xDawn', epochs=50, batch_size=16, multiplier=10**6)"
   ]
  },
  {
   "cell_type": "markdown",
   "metadata": {},
   "source": [
    "## Classification standardization common"
   ]
  },
  {
   "cell_type": "code",
   "execution_count": null,
   "metadata": {
    "scrolled": true
   },
   "outputs": [],
   "source": [
    "train_model(data_type='standardization_common', epochs=50, batch_size=16, multiplier=10)"
   ]
  },
  {
   "cell_type": "markdown",
   "metadata": {},
   "source": [
    "## Classification clean participants"
   ]
  },
  {
   "cell_type": "code",
   "execution_count": 15,
   "metadata": {},
   "outputs": [
    {
     "name": "stdout",
     "output_type": "stream",
     "text": [
      "Epoch 1/50\n",
      "937/937 [==============================] - 30s 31ms/step - loss: 0.7931 - accuracy: 0.5223 - val_loss: 0.6908 - val_accuracy: 0.5631\n",
      "Epoch 2/50\n",
      "937/937 [==============================] - 28s 30ms/step - loss: 0.7576 - accuracy: 0.5357 - val_loss: 0.6899 - val_accuracy: 0.5595\n",
      "Epoch 3/50\n",
      "937/937 [==============================] - 27s 29ms/step - loss: 0.7477 - accuracy: 0.5501 - val_loss: 0.6836 - val_accuracy: 0.5819\n",
      "Epoch 4/50\n",
      "937/937 [==============================] - 30s 32ms/step - loss: 0.7623 - accuracy: 0.5544 - val_loss: 0.7185 - val_accuracy: 0.5881\n",
      "Epoch 5/50\n",
      "937/937 [==============================] - 33s 36ms/step - loss: 0.7332 - accuracy: 0.5709 - val_loss: 0.7075 - val_accuracy: 0.5634\n",
      "Epoch 6/50\n",
      "937/937 [==============================] - 34s 37ms/step - loss: 0.7286 - accuracy: 0.5725 - val_loss: 0.6947 - val_accuracy: 0.5868\n",
      "Epoch 7/50\n",
      "937/937 [==============================] - 32s 34ms/step - loss: 0.7417 - accuracy: 0.5709 - val_loss: 0.6885 - val_accuracy: 0.6005\n",
      "Epoch 8/50\n",
      "937/937 [==============================] - 31s 33ms/step - loss: 0.7224 - accuracy: 0.5902 - val_loss: 0.6942 - val_accuracy: 0.5868\n",
      "Epoch 9/50\n",
      "937/937 [==============================] - 36s 39ms/step - loss: 0.7248 - accuracy: 0.5879 - val_loss: 0.7053 - val_accuracy: 0.5998\n",
      "Epoch 10/50\n",
      "937/937 [==============================] - 32s 34ms/step - loss: 0.7048 - accuracy: 0.5969 - val_loss: 0.6961 - val_accuracy: 0.5992\n",
      "Epoch 11/50\n",
      "937/937 [==============================] - 28s 30ms/step - loss: 0.7211 - accuracy: 0.5859 - val_loss: 0.6946 - val_accuracy: 0.5809\n",
      "Epoch 12/50\n",
      "937/937 [==============================] - 27s 29ms/step - loss: 0.7033 - accuracy: 0.6037 - val_loss: 0.6866 - val_accuracy: 0.6001\n",
      "Epoch 13/50\n",
      "937/937 [==============================] - 27s 29ms/step - loss: 0.7012 - accuracy: 0.5974 - val_loss: 0.6937 - val_accuracy: 0.5985\n",
      "Epoch 14/50\n",
      "937/937 [==============================] - 27s 28ms/step - loss: 0.6974 - accuracy: 0.6010 - val_loss: 0.7073 - val_accuracy: 0.6005\n",
      "Epoch 15/50\n",
      "937/937 [==============================] - 27s 29ms/step - loss: 0.6869 - accuracy: 0.6180 - val_loss: 0.6929 - val_accuracy: 0.5917\n",
      "Epoch 16/50\n",
      "937/937 [==============================] - 26s 28ms/step - loss: 0.6915 - accuracy: 0.5994 - val_loss: 0.7404 - val_accuracy: 0.5767\n",
      "Epoch 17/50\n",
      "937/937 [==============================] - 28s 29ms/step - loss: 0.6871 - accuracy: 0.6131 - val_loss: 0.7017 - val_accuracy: 0.5979\n",
      "Epoch 18/50\n",
      "937/937 [==============================] - 27s 29ms/step - loss: 0.6839 - accuracy: 0.6102 - val_loss: 0.6779 - val_accuracy: 0.6001\n",
      "Epoch 19/50\n",
      "937/937 [==============================] - 24s 26ms/step - loss: 0.6787 - accuracy: 0.6087 - val_loss: 0.6809 - val_accuracy: 0.6021\n",
      "Epoch 20/50\n",
      "937/937 [==============================] - 22s 24ms/step - loss: 0.6723 - accuracy: 0.6227 - val_loss: 0.6862 - val_accuracy: 0.5959\n",
      "Epoch 21/50\n",
      "937/937 [==============================] - 22s 24ms/step - loss: 0.6775 - accuracy: 0.6108 - val_loss: 0.6681 - val_accuracy: 0.6024\n",
      "Epoch 22/50\n",
      "937/937 [==============================] - 23s 25ms/step - loss: 0.6755 - accuracy: 0.6074 - val_loss: 0.6841 - val_accuracy: 0.6040\n",
      "Epoch 23/50\n",
      "937/937 [==============================] - 22s 24ms/step - loss: 0.6738 - accuracy: 0.6124 - val_loss: 0.6836 - val_accuracy: 0.5894\n",
      "Epoch 24/50\n",
      "937/937 [==============================] - 22s 24ms/step - loss: 0.6623 - accuracy: 0.6232 - val_loss: 0.6927 - val_accuracy: 0.5891\n",
      "Epoch 25/50\n",
      "937/937 [==============================] - 22s 24ms/step - loss: 0.6700 - accuracy: 0.6180 - val_loss: 0.7066 - val_accuracy: 0.5826\n",
      "Epoch 26/50\n",
      "937/937 [==============================] - 22s 24ms/step - loss: 0.6658 - accuracy: 0.6145 - val_loss: 0.6916 - val_accuracy: 0.5852\n",
      "Epoch 27/50\n",
      "937/937 [==============================] - 22s 24ms/step - loss: 0.6475 - accuracy: 0.6317 - val_loss: 0.7200 - val_accuracy: 0.5849\n",
      "Epoch 28/50\n",
      "937/937 [==============================] - 22s 23ms/step - loss: 0.6597 - accuracy: 0.6206 - val_loss: 0.6735 - val_accuracy: 0.6008\n",
      "Epoch 29/50\n",
      "937/937 [==============================] - 22s 23ms/step - loss: 0.6489 - accuracy: 0.6337 - val_loss: 0.7021 - val_accuracy: 0.6040\n",
      "Epoch 30/50\n",
      "937/937 [==============================] - 22s 23ms/step - loss: 0.6675 - accuracy: 0.6154 - val_loss: 0.6879 - val_accuracy: 0.5933\n",
      "Epoch 31/50\n",
      "937/937 [==============================] - 22s 23ms/step - loss: 0.6623 - accuracy: 0.6167 - val_loss: 0.6768 - val_accuracy: 0.6034\n",
      "Epoch 32/50\n",
      "937/937 [==============================] - 22s 24ms/step - loss: 0.6510 - accuracy: 0.6348 - val_loss: 0.6924 - val_accuracy: 0.5969\n",
      "Epoch 33/50\n",
      "937/937 [==============================] - 22s 24ms/step - loss: 0.6511 - accuracy: 0.6268 - val_loss: 0.6982 - val_accuracy: 0.5871\n",
      "Epoch 34/50\n",
      "937/937 [==============================] - 22s 23ms/step - loss: 0.6523 - accuracy: 0.6288 - val_loss: 0.7050 - val_accuracy: 0.5936\n",
      "Epoch 35/50\n",
      "937/937 [==============================] - 22s 23ms/step - loss: 0.6509 - accuracy: 0.6314 - val_loss: 0.6770 - val_accuracy: 0.5884\n",
      "Epoch 36/50\n",
      "937/937 [==============================] - 22s 23ms/step - loss: 0.6489 - accuracy: 0.6315 - val_loss: 0.6904 - val_accuracy: 0.5891\n",
      "Epoch 37/50\n",
      "937/937 [==============================] - 22s 23ms/step - loss: 0.6535 - accuracy: 0.6213 - val_loss: 0.6945 - val_accuracy: 0.5865\n",
      "Epoch 38/50\n",
      "937/937 [==============================] - 22s 24ms/step - loss: 0.6495 - accuracy: 0.6231 - val_loss: 0.6819 - val_accuracy: 0.5904\n",
      "Epoch 39/50\n",
      "937/937 [==============================] - 22s 24ms/step - loss: 0.6442 - accuracy: 0.6328 - val_loss: 0.6577 - val_accuracy: 0.6109\n",
      "Epoch 40/50\n",
      "937/937 [==============================] - 22s 23ms/step - loss: 0.6499 - accuracy: 0.6281 - val_loss: 0.6827 - val_accuracy: 0.5871\n",
      "Epoch 41/50\n",
      "937/937 [==============================] - 22s 23ms/step - loss: 0.6419 - accuracy: 0.6366 - val_loss: 0.6866 - val_accuracy: 0.5845\n",
      "Epoch 42/50\n",
      "937/937 [==============================] - 22s 23ms/step - loss: 0.6572 - accuracy: 0.6210 - val_loss: 0.6817 - val_accuracy: 0.6112\n",
      "Epoch 43/50\n",
      "937/937 [==============================] - 22s 24ms/step - loss: 0.6479 - accuracy: 0.6311 - val_loss: 0.6902 - val_accuracy: 0.5832\n",
      "Epoch 44/50\n",
      "937/937 [==============================] - 22s 24ms/step - loss: 0.6487 - accuracy: 0.6304 - val_loss: 0.6858 - val_accuracy: 0.6031\n",
      "Epoch 45/50\n",
      "937/937 [==============================] - 22s 23ms/step - loss: 0.6485 - accuracy: 0.6342 - val_loss: 0.6707 - val_accuracy: 0.6053\n",
      "Epoch 46/50\n",
      "937/937 [==============================] - 23s 25ms/step - loss: 0.6459 - accuracy: 0.6339 - val_loss: 0.6725 - val_accuracy: 0.6014\n",
      "Epoch 47/50\n",
      "937/937 [==============================] - 25s 26ms/step - loss: 0.6471 - accuracy: 0.6330 - val_loss: 0.6727 - val_accuracy: 0.6031\n",
      "Epoch 48/50\n",
      "937/937 [==============================] - 25s 27ms/step - loss: 0.6399 - accuracy: 0.6374 - val_loss: 0.6618 - val_accuracy: 0.6096\n",
      "Epoch 49/50\n",
      "937/937 [==============================] - 25s 27ms/step - loss: 0.6419 - accuracy: 0.6373 - val_loss: 0.6694 - val_accuracy: 0.5982\n",
      "Epoch 50/50\n",
      "937/937 [==============================] - 25s 27ms/step - loss: 0.6364 - accuracy: 0.6452 - val_loss: 0.6795 - val_accuracy: 0.5917\n",
      "2021-01-27 00:56:35,302 INFO |: Assets written to: ./models/clean_participants/assets\n"
     ]
    }
   ],
   "source": [
    "train_model(data_type='clean_participants', epochs=50, batch_size=16, multiplier=10**6)"
   ]
  },
  {
   "cell_type": "markdown",
   "metadata": {},
   "source": [
    "## Classification xDawn participants"
   ]
  },
  {
   "cell_type": "code",
   "execution_count": null,
   "metadata": {},
   "outputs": [],
   "source": [
    "train_model(data_type='xDawn_participants', epochs=50, batch_size=16, multiplier=10**6)"
   ]
  },
  {
   "cell_type": "markdown",
   "metadata": {},
   "source": [
    "## Classification standardization common participants"
   ]
  },
  {
   "cell_type": "code",
   "execution_count": null,
   "metadata": {},
   "outputs": [],
   "source": [
    "train_model(data_type='standardization_common_participants', epochs=50, batch_size=16, multiplier=10)"
   ]
  },
  {
   "cell_type": "code",
   "execution_count": null,
   "metadata": {},
   "outputs": [],
   "source": []
  }
 ],
 "metadata": {
  "kernelspec": {
   "display_name": "new_braindecode",
   "language": "python",
   "name": "new_braindecode"
  },
  "language_info": {
   "codemirror_mode": {
    "name": "ipython",
    "version": 3
   },
   "file_extension": ".py",
   "mimetype": "text/x-python",
   "name": "python",
   "nbconvert_exporter": "python",
   "pygments_lexer": "ipython3",
   "version": "3.8.2"
  }
 },
 "nbformat": 4,
 "nbformat_minor": 4
}
